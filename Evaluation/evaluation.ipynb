{
 "cells": [
  {
   "cell_type": "markdown",
   "metadata": {},
   "source": [
    "# Evaluating our final models\n",
    "\n",
    "We use around half of the UTKFace dataset (10,000 Images) to test our models on its Gender accuracy and Age MAE"
   ]
  },
  {
   "cell_type": "code",
   "execution_count": 1,
   "metadata": {},
   "outputs": [],
   "source": [
    "# Imports\n",
    "import os\n",
    "import numpy as np\n",
    "import cv2\n",
    "import matplotlib.pyplot as plt\n",
    "from sklearn.metrics import accuracy_score, mean_absolute_error\n",
    "from tensorflow.keras.models import load_model\n",
    "\n",
    "# Configs\n",
    "DATASET_PATH = \"/Users/s16teen/Downloads/Work/UOB/SEM2/ML2/age_gender_estimation_CNN/Evaluation/UTKFace\"\n",
    "IMAGE_SIZE = (128, 128)\n",
    "SAMPLE_SIZE = 10000\n",
    "\n",
    "# Load Filenames\n",
    "all_image_files = [\n",
    "    file for file in os.listdir(DATASET_PATH) \n",
    "    if file.lower().endswith('.jpg')\n",
    "]\n",
    "\n",
    "# Sample a subset for evaluation\n",
    "all_image_files = np.random.choice(all_image_files, SAMPLE_SIZE, replace=False).tolist()"
   ]
  },
  {
   "cell_type": "code",
   "execution_count": null,
   "metadata": {},
   "outputs": [
    {
     "name": "stdout",
     "output_type": "stream",
     "text": [
      "Loading image data and extracting labels...\n"
     ]
    }
   ],
   "source": [
    "# Load images and labels\n",
    "def load_images_and_labels(dataset_path, filenames, target_size=(128, 128)):\n",
    "    print(\"Loading image data and extracting labels...\")\n",
    "    images, age_labels, gender_labels = [], [], []\n",
    "\n",
    "    for file in filenames:\n",
    "        img_path = os.path.join(dataset_path, file)\n",
    "        img = cv2.imread(img_path)\n",
    "        img = cv2.resize(img, target_size)\n",
    "        img = img / 255.0\n",
    "\n",
    "        try:\n",
    "            age, gender = file.split('_')[:2]\n",
    "            age_labels.append(int(age))\n",
    "            gender_labels.append(int(gender))\n",
    "            images.append(img)\n",
    "        except ValueError:\n",
    "            continue\n",
    "\n",
    "    return np.array(images), np.array(age_labels), np.array(gender_labels)\n",
    "\n",
    "# Load the data\n",
    "images, age_labels, gender_labels = load_images_and_labels(DATASET_PATH, all_image_files, IMAGE_SIZE)"
   ]
  },
  {
   "cell_type": "code",
   "execution_count": 4,
   "metadata": {},
   "outputs": [
    {
     "name": "stderr",
     "output_type": "stream",
     "text": [
      "WARNING: All log messages before absl::InitializeLog() is called are written to STDERR\n",
      "I0000 00:00:1741949597.359701 7609559 service.cc:148] XLA service 0x17e010630 initialized for platform Host (this does not guarantee that XLA will be used). Devices:\n",
      "I0000 00:00:1741949597.359748 7609559 service.cc:156]   StreamExecutor device (0): Host, Default Version\n",
      "2025-03-14 10:53:17.383633: I tensorflow/compiler/mlir/tensorflow/utils/dump_mlir_util.cc:268] disabling MLIR crash reproducer, set env var `MLIR_CRASH_REPRODUCER_DIRECTORY` to enable.\n"
     ]
    },
    {
     "name": "stdout",
     "output_type": "stream",
     "text": [
      "\u001b[1m  5/313\u001b[0m \u001b[37m━━━━━━━━━━━━━━━━━━━━\u001b[0m \u001b[1m8s\u001b[0m 29ms/step  "
     ]
    },
    {
     "name": "stderr",
     "output_type": "stream",
     "text": [
      "I0000 00:00:1741949597.576601 7609559 device_compiler.h:188] Compiled cluster using XLA!  This line is logged at most once for the lifetime of the process.\n"
     ]
    },
    {
     "name": "stdout",
     "output_type": "stream",
     "text": [
      "\u001b[1m313/313\u001b[0m \u001b[32m━━━━━━━━━━━━━━━━━━━━\u001b[0m\u001b[37m\u001b[0m \u001b[1m9s\u001b[0m 28ms/step\n",
      "\u001b[1m313/313\u001b[0m \u001b[32m━━━━━━━━━━━━━━━━━━━━\u001b[0m\u001b[37m\u001b[0m \u001b[1m201s\u001b[0m 641ms/step\n"
     ]
    }
   ],
   "source": [
    "# Load Models\n",
    "modelA = load_model('age_gender_A.keras')\n",
    "modelB = load_model('age_gender_B.keras')\n",
    "\n",
    "# Predict using both models\n",
    "predA = modelA.predict(images)\n",
    "predB = modelB.predict(images)\n",
    "\n",
    "# Helper function to convert gender output to class label\n",
    "def binary_to_class(preds):\n",
    "    return [1 if p >= 0.5 else 0 for p in preds]\n"
   ]
  },
  {
   "cell_type": "code",
   "execution_count": null,
   "metadata": {},
   "outputs": [],
   "source": [
    "# Model A Metrics\n",
    "gender_predA = binary_to_class(predA[0])\n",
    "p1_acc = accuracy_score(gender_labels, gender_predA)\n",
    "p1_mae = mean_absolute_error(age_labels, predA[1])\n",
    "\n",
    "# Model B Metrics\n",
    "gender_predB = binary_to_class(predB[0])\n",
    "p2_acc = accuracy_score(gender_labels, gender_predB)\n",
    "p2_mae = mean_absolute_error(age_labels, predB[1])\n",
    "\n",
    "# Display Results\n",
    "print(\"Model A:\")\n",
    "print(f\"Age MAE: {p1_mae:.2f}\")\n",
    "print(f\"Gender Accuracy: {p1_acc:.2%}\")\n",
    "\n",
    "print(\"\\nModel B:\")\n",
    "print(f\"Age MAE: {p2_mae:.2f}\")\n",
    "print(f\"Gender Accuracy: {p2_acc:.2%}\")"
   ]
  },
  {
   "cell_type": "code",
   "execution_count": null,
   "metadata": {},
   "outputs": [],
   "source": [
    "# Plot Gender Accuracy\n",
    "plt.figure(figsize=(10, 4))\n",
    "\n",
    "# Gender Accuracy\n",
    "plt.subplot(1, 2, 1)\n",
    "plt.bar(['Model A', 'Model B'], [p1_acc, p2_acc], color=['skyblue', 'lightgreen'])\n",
    "plt.title(\"Gender Accuracy\")\n",
    "plt.ylabel(\"Accuracy\")\n",
    "plt.ylim(0, 1)\n",
    "plt.grid(axis='y')\n",
    "\n",
    "# Age MAE\n",
    "plt.subplot(1, 2, 2)\n",
    "plt.bar(['Model A', 'Model B'], [p1_mae, p2_mae], color=['coral', 'orchid'])\n",
    "plt.title(\"Age MAE\")\n",
    "plt.ylabel(\"Mean Absolute Error\")\n",
    "plt.grid(axis='y')\n",
    "\n",
    "plt.tight_layout()\n",
    "plt.show()"
   ]
  }
 ],
 "metadata": {
  "kernelspec": {
   "display_name": "Python 3",
   "language": "python",
   "name": "python3"
  },
  "language_info": {
   "codemirror_mode": {
    "name": "ipython",
    "version": 3
   },
   "file_extension": ".py",
   "mimetype": "text/x-python",
   "name": "python",
   "nbconvert_exporter": "python",
   "pygments_lexer": "ipython3",
   "version": "3.12.5"
  }
 },
 "nbformat": 4,
 "nbformat_minor": 2
}
