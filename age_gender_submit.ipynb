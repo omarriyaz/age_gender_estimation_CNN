{
  "cells": [
    {
      "cell_type": "markdown",
      "metadata": {
        "id": "-GRYwLR3vqLz"
      },
      "source": [
        "# Age Estimation and Gender Classification\n",
        "\n",
        "In this assignment, you will train CNN models to estimate a person's age and predict their gender based on face images. Please read carefully all the instructions before you start to write your code.\n",
        "\n",
        "**Your Tasks**\n",
        "\n",
        "You are supposed to train two CNN models.\n",
        "- Model A: Train a CNN model from scratch, following a few restrictions. Save this model as `age_gender_A.keras`\n",
        "- Model B: Fine-tune a pre-trained model to perform the same task. Save this model as `age_gender_B.keras`\n",
        "\n",
        "**Dataset**\n",
        "\n",
        "Your models will be trained and validated on a folder `train_val/` containing 5,000 labeled face images (size: 128 x 128), originated from the UTKFace dataset. During the assessment phase, your code will be tested on unseen test data.\n",
        "\n",
        "**Performance Metric**\n",
        "\n",
        "The evaluation of your models on the test set will be based on the following metrics:\n",
        "- age estimation: - Mean Absolute Error (MAE)\n",
        "- gender prediction: accuracy\n",
        "\n",
        "**GPU Time Management**\n",
        "\n",
        "Please use the available GPU time wisely, as there are some limitations on free GPU usage. It is said the users can use up to 12 hours in row in Google Colab. But many people found they reached its limit far less than 12 hours. To minimize the risk of reaching the limit, consider the following suggestions:\n",
        "1. Ensure you have a stable internet connection.\n",
        "2. Carefully validate your hyperparameters before starting the training process.\n",
        "3. Based on past experience, each model should be trained in less than 2 hours. If the training time is significantly longer, you may need to adjust your model architecture.\n"
      ]
    },
    {
      "cell_type": "markdown",
      "metadata": {
        "id": "vOAXA2CdQ8Pb"
      },
      "source": [
        "## Setting Up: Mount the google drive\n",
        "Mount your google drive to the notebook. Also don't forget to **enable GPU** before your training.\n"
      ]
    },
    {
      "cell_type": "code",
      "execution_count": null,
      "metadata": {
        "id": "XCwBWDsMQwyb"
      },
      "outputs": [],
      "source": [
        "#\n",
        "# Add your code here\n",
        "#\n",
        "\n",
        "# Mounting the drive\n",
        "from google.colab import drive\n",
        "drive.mount('/content/drive')"
      ]
    },
    {
      "cell_type": "markdown",
      "metadata": {
        "id": "lBRVYYhRRINA"
      },
      "source": [
        "## Visualize a few photos\n",
        "It's always beneficial to thoroughly understand your data before beginning the training process. To get a first-hand impression of the dataset, please display a minimum of 20 images from the `train_val/` folder, along with their corresponding age and gender labels. This will help you gain initial insights into the dataset."
      ]
    },
    {
      "cell_type": "code",
      "execution_count": null,
      "metadata": {
        "id": "3zA1kSeoReXJ"
      },
      "outputs": [],
      "source": [
        "#\n",
        "# Add your code here\n",
        "#\n",
        "\n",
        "# Relevant imports\n",
        "import random\n",
        "import os\n",
        "import matplotlib.pyplot as plt\n",
        "from matplotlib.image import imread\n",
        "\n",
        "# Extracting the age and gender from the images\n",
        "age = []\n",
        "gender = []\n",
        "race = []\n",
        "datetime = []\n",
        "\n",
        "# Folder containing the images\n",
        "folder = '/content/drive/MyDrive/train_val'\n",
        "\n",
        "# Loop through the files and extract the information from the file names\n",
        "for images in os.listdir(folder):\n",
        "  labels = images.split('_')\n",
        "  age.append(labels[0])\n",
        "  gender.append(labels[1])\n",
        "  race.append(labels[2])\n",
        "  datetime.append(labels[3].split('.')[0])\n",
        "\n",
        "# Selecting a random subset of images to display\n",
        "rand = [random.randint(0,5000) for i in range(20)]\n",
        "\n",
        "# Viewing 20 random images\n",
        "plt.figure(figsize=(10,10))\n",
        "for i in range(20):\n",
        "  plt.subplot(4,5,i+1)\n",
        "  files = folder + '/' + str(age[rand[i]]) + '_' + str(gender[rand[i]]) + '_' + str(race[rand[i]]) + '_' + str(datetime[rand[i]]) + '.jpg.chip.jpg'\n",
        "  img = imread(files)\n",
        "  plt.imshow(img)\n",
        "  plt.axis\n",
        "  plt.xlabel(f'Age: {age[rand[i]]}, Gender: {gender[rand[i]]}')"
      ]
    },
    {
      "cell_type": "markdown",
      "metadata": {
        "id": "zp_QcvuTRUqq"
      },
      "source": [
        "## Step 1: Data Pre-Processing\n",
        "In this step, you will perform necessary pre-processing tasks before feeding the data into a CNN. The pre-processing includes:\n",
        "\n",
        "1. Splitting the data into training and validation sets.\n",
        "2. Loading image data, gender labels and age values, and rescaling pixel values (originally integers between 0 and 255) to the range [0, 1].\n",
        "3. Data augmentation\n",
        "\n",
        "The first two pre-processing steps have already been completed for you. Your task in this step is limited to:\n",
        "\n",
        "3. Data augmentation\n",
        "\n",
        "Please note:\n",
        "\n",
        "- Do not modify any part of the provided code except the section marked with ########.\n",
        "- Do not rescale the age values to the range [0,1], as the original values are used during the testing stage. Rescaling them would significantly impact testing performance.\n",
        "\n"
      ]
    },
    {
      "cell_type": "code",
      "execution_count": null,
      "metadata": {
        "id": "mGOkUt8_Uu8q"
      },
      "outputs": [],
      "source": [
        "import os\n",
        "import random\n",
        "import numpy as np\n",
        "\n",
        "# Added new imports\n",
        "import cv2\n",
        "from tensorflow.keras import layers, Sequential\n",
        "\n",
        "folder_train_val = '/content/drive/MyDrive/train_val'\n",
        "all_image_files = [file for file in os.listdir(folder_train_val) if file.lower().endswith(('.jpg'))]\n",
        "\n",
        "# Shuffle the dataset to ensure random distribution\n",
        "random.seed(0)  # Ensure reproducibility\n",
        "random.shuffle(all_image_files)\n",
        "\n",
        "# Calculate the number of images for each set\n",
        "n_train_val = len(all_image_files)\n",
        "train_end = int(n_train_val * 0.8)\n",
        "\n",
        "# Split the dataset\n",
        "train_image_files = all_image_files[:train_end]\n",
        "val_image_files = all_image_files[train_end:]\n",
        "print(f\"Number of images for training: {len(train_image_files)}\")\n",
        "print(f\"Number of images for validation: {len(val_image_files)}\")\n",
        "\n",
        "def load_imgs_lables(dataset_path,filenames):\n",
        "  print('load all image data, age and gender labels...')\n",
        "  images = []\n",
        "  age_labels = []\n",
        "  gender_labels = []\n",
        "  for current_file_name in filenames:\n",
        "    img = cv2.imread(os.path.join(dataset_path, current_file_name))\n",
        "    img = img / 255.0  # Normalize pixel values\n",
        "    labels = current_file_name.split('_')\n",
        "    age_label = int(labels[0])\n",
        "    gender_label = int(labels[1])\n",
        "    age_labels.append(age_label)\n",
        "    gender_labels.append(gender_label)\n",
        "    images.append(img)\n",
        "\n",
        "  # Convert to NumPy arrays\n",
        "  images = np.array(images)\n",
        "  age_labels = np.array(age_labels)\n",
        "  gender_labels = np.array(gender_labels)\n",
        "  return images, age_labels, gender_labels\n",
        "\n",
        "# Load data from the training set\n",
        "train_images, train_age, train_gender = load_imgs_lables(folder_train_val,train_image_files)\n",
        "\n",
        "# Load data from the validation set\n",
        "val_images, val_age, val_gender = load_imgs_lables(folder_train_val,val_image_files)\n",
        "\n",
        "#\n",
        "######### Add your code for data augmentation here #########\n",
        "#\n",
        "\n",
        "# Data Augmentation Layer\n",
        "data_augmentation = Sequential([\n",
        "    layers.RandomFlip('horizontal'),\n",
        "    layers.RandomRotation(0.1),\n",
        "])"
      ]
    },
    {
      "cell_type": "code",
      "execution_count": null,
      "metadata": {
        "id": "KwM8BqKV0PSS"
      },
      "outputs": [],
      "source": [
        "# Visualize some of the augmented images\n",
        "\n",
        "# Select a random subset of images to display\n",
        "num_images_to_show = 5\n",
        "sample_indices = random.sample(range(len(train_images)), num_images_to_show)\n",
        "sample_images = train_images[sample_indices]\n",
        "\n",
        "plt.figure(figsize=(12, 6))\n",
        "\n",
        "for i, img in enumerate(sample_images):\n",
        "    augmented_img = data_augmentation(np.expand_dims(img, 0))\n",
        "    augmented_img_np = augmented_img[0].numpy()\n",
        "\n",
        "    # Convert from BGR to RGB for displaying with matplotlib (Issue with Matplotlib turning images blue)\n",
        "    rgb_img = cv2.cvtColor((augmented_img_np * 255).astype(np.uint8), cv2.COLOR_BGR2RGB)\n",
        "\n",
        "    plt.subplot(1, num_images_to_show, i + 1)\n",
        "    plt.imshow(rgb_img)\n",
        "    plt.axis('off')\n",
        "\n",
        "plt.tight_layout()\n",
        "plt.show()"
      ]
    },
    {
      "cell_type": "markdown",
      "metadata": {
        "id": "EaH0dLz-UzpT"
      },
      "source": [
        "## STEP2A: Build your own CNN network\n",
        "In this step, you will define your own CNN model for identifying gender and predicting age. Although there are two tasks, you only need to build one CNN model with two outputs. You may refer to online resources for solutions.\n",
        "\n",
        "Here are the key requirements and restrictions for your network:\n",
        "1.\tThe input size must be 128 x 128 x 3, which means you **should not resize** the original images. This is because my test code relies on this particular input size. Any other size will cause problem in the testing stage.\n",
        "2.  Please treat the gender classification as a binary problem, i.e., **the output layer for the gender branch has only 1 unit**, instead of 2. Although it is technically correct to treat gender classification as a multi-class problem with 2 classes, i.e., 2 units in the last layer, the test code only supports a 1-unit last-layer configuration for the gender branch.\n",
        "3.\tThe size of feature maps being fed to the first fully connected layer must be less than 10 x 10, while there is no number limitation about the depth.\n",
        "4.\tIncorporate techniques to prevent overfitting as appropriate.\n",
        "\n",
        "At the end of your implementation, use `modelA.summary()` to display the model architecture and use `plot_model()` to visualize the architecture."
      ]
    },
    {
      "cell_type": "code",
      "execution_count": null,
      "metadata": {
        "id": "atYurdRBU64d"
      },
      "outputs": [],
      "source": [
        "#\n",
        "# Add your code here\n",
        "#\n",
        "\n",
        "# Necessary imports\n",
        "import keras.utils\n",
        "from keras.layers import Input, Dense, Dropout, BatchNormalization, Activation\n",
        "from keras.models import Model\n",
        "from keras.regularizers import l2\n",
        "\n",
        "# Initialize learning rate and input shape\n",
        "l2_val = 0.01\n",
        "input_shape = (128, 128, 3)\n",
        "\n",
        "# Define model architecture\n",
        "base = Sequential([\n",
        "\n",
        "    # Convolutional layer 1\n",
        "    layers.Conv2D(16, (3, 3), use_bias=False, kernel_regularizer=l2(l2_val), input_shape=input_shape, strides=1, padding = 'same'),\n",
        "    layers.BatchNormalization(),\n",
        "    layers.Activation('relu'),\n",
        "    layers.MaxPooling2D((2, 2)),\n",
        "\n",
        "    # Convolutional layer 2\n",
        "    layers.Conv2D(32, (3, 3), use_bias=False, kernel_regularizer=l2(l2_val), input_shape=input_shape, strides=1, padding = 'same'),\n",
        "    layers.BatchNormalization(),\n",
        "    layers.Activation('relu'),\n",
        "    layers.MaxPooling2D((2, 2)),\n",
        "\n",
        "    # Convolutional layer 3\n",
        "    layers.Conv2D(64, (2, 2), use_bias=False, kernel_regularizer=l2(l2_val), strides = 1, padding='valid'),\n",
        "    layers.BatchNormalization(),\n",
        "    layers.Activation('relu'),\n",
        "    layers.MaxPooling2D((2, 2)),\n",
        "])\n",
        "\n",
        "# Define the input and apply data augmentation\n",
        "input = Input(shape=input_shape)\n",
        "input = data_augmentation(input)\n",
        "shared_layers = base(input)\n",
        "\n",
        "# Gender classification branch\n",
        "\n",
        "# Flatten the output from the shared layers\n",
        "gender_flatten = layers.Flatten()(shared_layers)\n",
        "\n",
        "# Dense layer for Gender\n",
        "gender = Dense(64, use_bias=False, kernel_regularizer=l2(0.01))(gender_flatten)\n",
        "gender1 = BatchNormalization()(gender)\n",
        "gender2 = Activation('relu')(gender1)\n",
        "\n",
        "# Adding Dropout\n",
        "gender3 = Dropout(0.5)(gender2)\n",
        "\n",
        "# Output layer for Gender\n",
        "gender_output = Dense(1, activation='sigmoid', name='gender')(gender3)\n",
        "\n",
        "# Age regression branch\n",
        "\n",
        "# Addtional convolutional layer 1 for Age\n",
        "age = layers.Conv2D(128, (3, 3), use_bias=False, kernel_regularizer=l2(l2_val), strides = 1)(shared_layers)\n",
        "age = layers.BatchNormalization()(age)\n",
        "age = layers.Activation('relu')(age)\n",
        "age = layers.MaxPooling2D((2, 2))(age)\n",
        "\n",
        "# Addtional convolutional layer 2 for Age\n",
        "age = layers.Conv2D(256, (3, 3), use_bias=False, kernel_regularizer=l2(l2_val), strides=1)(age)\n",
        "age = layers.BatchNormalization()(age)\n",
        "age = layers.Activation('relu')(age)\n",
        "age = layers.MaxPooling2D((2, 2))(age)\n",
        "\n",
        "# Flatten the output from the extra convolutional layers\n",
        "age = layers.Flatten()(age)\n",
        "\n",
        "# Dense layer 1 for Age\n",
        "age = Dense(512, use_bias=False, kernel_regularizer=l2(0.01))(age)\n",
        "age1 = BatchNormalization()(age)\n",
        "age2 = Activation('relu')(age1)\n",
        "\n",
        "# Dense layer 2 for Age\n",
        "age3 = Dense(128, use_bias=False, kernel_regularizer=l2(0.01))(age2)\n",
        "age4 = BatchNormalization()(age3)\n",
        "age5 = Activation('relu')(age4)\n",
        "\n",
        "# Adding Dropout\n",
        "age6 = Dropout(0.4)(age5)\n",
        "\n",
        "# Output layer for Age\n",
        "age_output = Dense(1, activation='relu', name='age')(age6)\n",
        "\n",
        "# Create the model\n",
        "modelA = Model(inputs=inputs, outputs=[gender_output, age_output])\n",
        "\n",
        "# compile the model\n",
        "modelA.summary()\n",
        "from tensorflow.keras.utils import plot_model\n",
        "plot_model(modelA, show_shapes=True,dpi=100)"
      ]
    },
    {
      "cell_type": "markdown",
      "metadata": {
        "id": "YvxCap5OVNEG"
      },
      "source": [
        "## STEP3A: Compile and train your model\n",
        "Compile and train your model here.\n",
        "Save your model by `modelA.save(your_model_folder+\"age_gender_A.keras\")` after training.\n",
        "\n",
        "**DON'T use any other name for your model file.** This is because my test code relies on this particular model name. Any other file name will cause problem in the testing stage.\n",
        "\n",
        "**Save the model with `save()`** to save the entire model (including a model's architecture, weights, and training configuration) as a `.keras` zip archive. Don't save it with `save_weights()`.\n"
      ]
    },
    {
      "cell_type": "code",
      "execution_count": null,
      "metadata": {
        "id": "A7rWAbMoVPMw"
      },
      "outputs": [],
      "source": [
        "#\n",
        "# Add your code here\n",
        "#\n",
        "\n",
        "# Necessary imports\n",
        "from keras.callbacks import EarlyStopping, LearningRateScheduler\n",
        "\n",
        "# Define the learning rate scheduler\n",
        "def scheduler(epoch, lr):\n",
        "  if epoch < 10:\n",
        "    return lr\n",
        "  else:\n",
        "    return lr * np.exp(-0.1*epoch)\n",
        "\n",
        "learning_rate_scheduler = LearningRateScheduler(scheduler)\n",
        "\n",
        "# Define the early stopping criteria\n",
        "early_stop = EarlyStopping(monitor='val_loss', patience=3, restore_best_weights=True)\n",
        "\n",
        "# Compile the model\n",
        "modelA.compile(loss={'gender': 'binary_crossentropy', 'age': 'mae'}, metrics={'gender': 'accuracy','age': 'mae'})\n",
        "\n",
        "# Train the model\n",
        "history1 = modelA.fit(\n",
        "    x=train_images,\n",
        "    y=[train_gender, train_age],\n",
        "    validation_data=(val_images, [val_gender, val_age]),\n",
        "    batch_size=32,\n",
        "    epochs=30,\n",
        "    callbacks=[learning_rate_scheduler, early_stop],\n",
        "    )"
      ]
    },
    {
      "cell_type": "code",
      "source": [
        "# Evaluate the model\n",
        "modelA.evaluate(val_images, [val_gender, val_age])"
      ],
      "metadata": {
        "id": "2xg0_ZxBXEhL"
      },
      "execution_count": null,
      "outputs": []
    },
    {
      "cell_type": "code",
      "source": [
        "# Save the model\n",
        "folder_models = '/content/drive/MyDrive/Models/'\n",
        "\n",
        "modelA.save(folder_models+'age_gender_A.keras')"
      ],
      "metadata": {
        "id": "U9Wua4bwT84U"
      },
      "execution_count": null,
      "outputs": []
    },
    {
      "cell_type": "markdown",
      "metadata": {
        "id": "qX9woxxCVPj-"
      },
      "source": [
        "## STEP4A: Draw the learning curves\n",
        "Draw four learning curve figures for model A as follows.\n",
        "1.\tThe loss of the gender classification over the training and validation set\n",
        "2.\tThe accuracy of the gender classification over the training and validation set\n",
        "3.\tThe loss of the age estimation over the training and validation set\n",
        "4.\tThe MAE of the age estimation over the training and validation set"
      ]
    },
    {
      "cell_type": "code",
      "execution_count": null,
      "metadata": {
        "id": "1pl5bSA5VT3Y"
      },
      "outputs": [],
      "source": [
        "#\n",
        "# Add your code here\n",
        "#\n",
        "\n",
        "# Get the history of the model\n",
        "history_dict = history1.history\n",
        "\n",
        "# Gender classification loss\n",
        "plt.figure(figsize=(12, 8))\n",
        "plt.subplot(2, 2, 1)\n",
        "plt.plot(history_dict['gender_loss'], label='Train Gender Loss')\n",
        "plt.plot(history_dict['val_gender_loss'], label='Val Gender Loss')\n",
        "plt.title('Gender Classification Loss')\n",
        "plt.xlabel('Epochs')\n",
        "plt.ylabel('Loss')\n",
        "plt.legend()\n",
        "\n",
        "# Gender classification accuracy\n",
        "plt.subplot(2, 2, 2)\n",
        "plt.plot(history_dict['gender_accuracy'], label='Train Gender Accuracy')\n",
        "plt.plot(history_dict['val_gender_accuracy'], label='Val Gender Accuracy')\n",
        "plt.title('Gender Classification Accuracy')\n",
        "plt.xlabel('Epochs')\n",
        "plt.ylabel('Accuracy')\n",
        "plt.legend()\n",
        "\n",
        "# Age estimation loss\n",
        "plt.subplot(2, 2, 3)\n",
        "plt.plot(history_dict['age_loss'], label='Train Age Loss')\n",
        "plt.plot(history_dict['val_age_loss'], label='Val Age Loss')\n",
        "plt.title('Age Estimation Loss')\n",
        "plt.xlabel('Epochs')\n",
        "plt.ylabel('Loss')\n",
        "plt.legend()\n",
        "\n",
        "# Age estimation MAE\n",
        "plt.subplot(2, 2, 4)\n",
        "plt.plot(history_dict['age_mae'], label='Train Age MAE')\n",
        "plt.plot(history_dict['val_age_mae'], label='Val Age MAE')\n",
        "plt.title('Age Estimation MAE')\n",
        "plt.xlabel('Epochs')\n",
        "plt.ylabel('Mean Absolute Error')\n",
        "plt.legend()\n",
        "\n",
        "plt.tight_layout()\n",
        "plt.show()"
      ]
    },
    {
      "cell_type": "markdown",
      "metadata": {
        "id": "3fCO79ViVUkX"
      },
      "source": [
        "## STEP2B: Build a CNN network based on a pre-trained model\n",
        "Choose an existing CNN architecture pre-trained on ImageNet and fine-tune it on this dataset.\n",
        "\n",
        "As with Model A, **do not resize the input image size**.\n",
        "Ensure that the output layer for **the gender branch has only 1 unit**.\n",
        "\n",
        "At the end of the cell, use `modelB.summary()` to display the model architecture and use `plot_model()` to visualize the architecture.\n"
      ]
    },
    {
      "cell_type": "markdown",
      "metadata": {
        "id": "vsqWfCAzVjPk"
      },
      "source": [
        "## STEP3B: Compile and train your model\n",
        "Compile and train your model here.\n",
        "Save your model to `age_gender_B.keras` after training.\n",
        "\n",
        "**DON'T use any other name for your model file.** This is because my test code relies on this particular model name. Any other file name will cause problem in the testing stage.\n",
        "\n",
        "**Also, save the model with `save()` instead of `save_weights()`.**\n"
      ]
    },
    {
      "cell_type": "code",
      "execution_count": null,
      "metadata": {
        "id": "IQlYE1aWVmml"
      },
      "outputs": [],
      "source": [
        "#\n",
        "# Add your code here\n",
        "#\n",
        "\n",
        "# Necessary imports\n",
        "from keras.applications import VGG16\n",
        "\n",
        "# Load base VGG16 model\n",
        "base_model = VGG16(weights='imagenet', include_top=False, input_shape=(128, 128, 3))\n",
        "\n",
        "# Update L2 value\n",
        "l2_val = 0.001\n",
        "\n",
        "# Freeze certain layers\n",
        "base_model.trainable = False\n",
        "\n",
        "for layer in base_model.layers[-3:]:\n",
        "    layer.trainable = True\n",
        "\n",
        "# Create input layer\n",
        "input = Input(shape=(128, 128, 3))\n",
        "\n",
        "# Apply augmentation layer\n",
        "input = data_augmentation(input)\n",
        "\n",
        "# Feed input into VGG16\n",
        "shared_layer = base_model(x, training = False)\n",
        "\n",
        "# Flatten the outputs\n",
        "gender = Flatten()(shared_layer)\n",
        "age = Flatten()(shared_layer)\n",
        "\n",
        "# Dense layers for Gender\n",
        "gender = Dense(256, use_bias=False, kernel_regularizer=l2(0.01), activation = 'relu')(gender)\n",
        "gender = Dense(512, use_bias=False, kernel_regularizer=l2(0.01), activation = 'relu')(gender)\n",
        "\n",
        "# Output layer for Gender\n",
        "gender_output = Dense(1, activation='sigmoid', name='gender')(gender)\n",
        "\n",
        "# Dense layers for Age\n",
        "age = Dense(256, use_bias=False, kernel_regularizer=l2(0.01), activation = 'relu')(age)\n",
        "age = Dense(512, use_bias=False, kernel_regularizer=l2(0.01), activation = 'relu')(age)\n",
        "\n",
        "# Output layer for Gender\n",
        "age_output = Dense(1, activation='relu', name='age')(age)\n",
        "\n",
        "# Define model\n",
        "modelB = Model(inputs=inputs, outputs=[gender_output, age_output])\n",
        "\n",
        "# Compile the model\n",
        "modelB.summary()\n",
        "from tensorflow.keras.utils import plot_model\n",
        "plot_model(modelB, show_shapes=True,dpi=100)"
      ]
    },
    {
      "cell_type": "markdown",
      "metadata": {
        "id": "sdRlobSlVnBi"
      },
      "source": [
        "## STEP4B: Draw the learning curves\n",
        "Draw four learning curve figures for model B as follows.\n",
        "1. The loss of the gender classification over the training and validation set\n",
        "2. The accuracy of the gender classification over the training and validation set\n",
        "3. The loss of the age estimation over the training and validation set\n",
        "4. The MAE of the age estimation over the training and validation set"
      ]
    },
    {
      "cell_type": "code",
      "execution_count": null,
      "metadata": {
        "id": "6T_uTOQkVrAB"
      },
      "outputs": [],
      "source": [
        "#\n",
        "# Add your code here\n",
        "#\n",
        "\n",
        "# Define the optimizer\n",
        "opt = keras.optimizers.Adam(learning_rate=0.0001)\n",
        "\n",
        "# Compile the model\n",
        "modelB.compile(optimizer = opt,loss={'gender': 'binary_crossentropy', 'age': 'mae'}, metrics={'gender': 'accuracy','age': 'mae'})\n",
        "\n",
        "# Train the model\n",
        "history2 = modelB.fit(\n",
        "    x=train_images,\n",
        "    y=[train_gender, train_age],\n",
        "    validation_data=(val_images, [val_gender, val_age]),\n",
        "    batch_size=32,\n",
        "    epochs=30,\n",
        "    callbacks=[early_stop]\n",
        "    )"
      ]
    },
    {
      "cell_type": "code",
      "source": [
        "# Evaluate the model\n",
        "modelB.evaluate(val_images, [val_gender, val_age])"
      ],
      "metadata": {
        "id": "o8z89bbCW7rS"
      },
      "execution_count": null,
      "outputs": []
    },
    {
      "cell_type": "code",
      "source": [
        "# Save the model\n",
        "modelB.save(folder_models+'age_gender_B.keras')"
      ],
      "metadata": {
        "id": "Bh6CoScleQAo"
      },
      "execution_count": null,
      "outputs": []
    },
    {
      "cell_type": "code",
      "source": [
        "#\n",
        "# Add your code here\n",
        "#\n",
        "\n",
        "# Get the history of the model\n",
        "history_dict = history2.history\n",
        "\n",
        "# Gender classification loss\n",
        "plt.figure(figsize=(12, 8))\n",
        "plt.subplot(2, 2, 1)\n",
        "plt.plot(history_dict['gender_loss'], label='Train Gender Loss')\n",
        "plt.plot(history_dict['val_gender_loss'], label='Val Gender Loss')\n",
        "plt.title('Gender Classification Loss')\n",
        "plt.xlabel('Epochs')\n",
        "plt.ylabel('Loss')\n",
        "plt.legend()\n",
        "\n",
        "# Gender classification accuracy\n",
        "plt.subplot(2, 2, 2)\n",
        "plt.plot(history_dict['gender_accuracy'], label='Train Gender Accuracy')\n",
        "plt.plot(history_dict['val_gender_accuracy'], label='Val Gender Accuracy')\n",
        "plt.title('Gender Classification Accuracy')\n",
        "plt.xlabel('Epochs')\n",
        "plt.ylabel('Accuracy')\n",
        "plt.legend()\n",
        "\n",
        "# Age estimation loss\n",
        "plt.subplot(2, 2, 3)\n",
        "plt.plot(history_dict['age_loss'], label='Train Age Loss')\n",
        "plt.plot(history_dict['val_age_loss'], label='Val Age Loss')\n",
        "plt.title('Age Estimation Loss')\n",
        "plt.xlabel('Epochs')\n",
        "plt.ylabel('Loss')\n",
        "plt.legend()\n",
        "\n",
        "# Age estimation MAE\n",
        "plt.subplot(2, 2, 4)\n",
        "plt.plot(history_dict['age_mae'], label='Train Age MAE')\n",
        "plt.plot(history_dict['val_age_mae'], label='Val Age MAE')\n",
        "plt.title('Age Estimation MAE')\n",
        "plt.xlabel('Epochs')\n",
        "plt.ylabel('Mean Absolute Error')\n",
        "plt.legend()\n",
        "\n",
        "plt.tight_layout()\n",
        "plt.show()"
      ],
      "metadata": {
        "id": "1n1ITU73eieL"
      },
      "execution_count": null,
      "outputs": []
    },
    {
      "cell_type": "markdown",
      "metadata": {
        "id": "67UhgpceVrv2"
      },
      "source": [
        "## STEP5: Evaluate the model on the test set\n",
        "I will load your two models for testing. The test set will not be available before your submission.\n",
        "\n",
        "The metrics for measuring the performance on the test set are:\n",
        "- age estimation: MAE (Mean Absolute Error)\n",
        "- gender classification: accuracy\n"
      ]
    },
    {
      "cell_type": "code",
      "execution_count": null,
      "metadata": {
        "id": "5rh5DlraV1aj"
      },
      "outputs": [],
      "source": [
        "#\n",
        "# Don't add code in this cell when submitting this file\n",
        "#"
      ]
    }
  ],
  "metadata": {
    "accelerator": "GPU",
    "colab": {
      "gpuType": "T4",
      "provenance": []
    },
    "kernelspec": {
      "display_name": "Python 3",
      "name": "python3"
    },
    "language_info": {
      "codemirror_mode": {
        "name": "ipython",
        "version": 3
      },
      "file_extension": ".py",
      "mimetype": "text/x-python",
      "name": "python",
      "nbconvert_exporter": "python",
      "pygments_lexer": "ipython3",
      "version": "3.12.5"
    }
  },
  "nbformat": 4,
  "nbformat_minor": 0
}